{
 "cells": [
  {
   "cell_type": "code",
   "execution_count": 45,
   "id": "0ac2f98f-a576-4ce3-97fd-71f22302c3a6",
   "metadata": {},
   "outputs": [],
   "source": [
    "import panel as pn\n",
    "pn.extension(template='bootstrap')\n",
    "import pandas as pd\n",
    "import hvplot.pandas\n",
    "from panel.template import BootstrapTemplate"
   ]
  },
  {
   "cell_type": "code",
   "execution_count": 46,
   "id": "25dd347d-5859-49ce-be61-6b288cd89449",
   "metadata": {},
   "outputs": [],
   "source": [
    "bootstrap = pn.template.BootstrapTemplate(title=\"Portfolio Analysis\")\n"
   ]
  },
  {
   "cell_type": "code",
   "execution_count": 47,
   "id": "76066b3b-cd48-4b6c-99c5-8efb98d5d1c9",
   "metadata": {},
   "outputs": [],
   "source": [
    "q1_dict = {'Over 70': 1, '60 to 70': 3, '46 to 59': 7, '45 or younger': 10}\n",
    "q2_dict = {'Less than 5 years': 1,\n",
    "                 '5 to 9 years': 3,\n",
    "                 '10 to 15 years': 6,\n",
    "                 'More than 15 years': 8}\n",
    "\n",
    "q3_dict = {'Not confident': 1,\n",
    "           'Somewhat confident': 2,\n",
    "           'Confident': 4,\n",
    "           'Very confident': 6}\n",
    "\n",
    "q4_dict = {'I’m more concerned with avoiding losses in my account value than with experiencing growth': 1,\n",
    "           'I desire growth of my account value, but I’m more concerned with avoiding losses': 3,\n",
    "           'I’m concerned with avoiding losses, but this is outweighed by my desire to achieve growth': 5,\n",
    "           'To maximize the chance of experiencing high growth, I’m willing to accept losses': 7}\n",
    "\n",
    "q5_dict = {'Be very concerned and sell my investments': 1,\n",
    "           'Be somewhat concerned and consider allocating to lower risk investments': 2,\n",
    "           'Be unconcernded about the temporary fluctuations in my returns': 4,\n",
    "           'Invest more in my current portfolio': 5}\n",
    "\n",
    "q6_dict = {\"I don't know how my assets are invested\": 1,\n",
    "           \"My pension, certificates of deposit, annuities, IRA and savings accounts\": 2,\n",
    "           \"A mix of stocks and bonds, including mutual funds\": 3,\n",
    "           \"Stocks or stock mutual funds\": 4}\n",
    "    "
   ]
  },
  {
   "cell_type": "code",
   "execution_count": 48,
   "id": "64f7a445-60d7-431c-9157-3d692c1857f6",
   "metadata": {},
   "outputs": [],
   "source": [
    "q1_name = 'What is your current age?'\n",
    "q2_name = 'I plan to withdraw money from my retirement plan account in:'\n",
    "q3_name = 'I should have enough savings and stable/guaranteed income (such as, Social Security, pension, retirement plan, annuities) to maintain my planned standard of living in retirement'\n",
    "q4_name = 'The following statement best describes my willingness to take risk'\n",
    "q5_name = 'If I invested $100,000 and my portfolio value decreased to $70,000 in just a few months, I would:'\n",
    "q6_name = 'My assets (excluding home and car) are invested in:'\n",
    "\n",
    "spacer = pn.layout.Spacer(margin=10)\n",
    "text = \"Please begin by answering the following questions so we can determine your risk tolerance level\""
   ]
  },
  {
   "cell_type": "code",
   "execution_count": 49,
   "id": "5283b9b5-7d52-4989-9140-a10e75d8775c",
   "metadata": {},
   "outputs": [],
   "source": [
    "def risk(a,b,c,d,e,f):\n",
    "    q1_points = q1_dict[a]\n",
    "    q2_points = q2_dict[b]\n",
    "    q3_points = q3_dict[c]\n",
    "    q4_points = q4_dict[d]\n",
    "    q5_points = q5_dict[e]\n",
    "    q6_points = q6_dict[f]\n",
    "    score = q1_points + q2_points + q3_points + q4_points + q5_points + q6_points\n",
    "    \n",
    "    if (score < 13):\n",
    "        risk = 'Conservative'\n",
    "    elif (score < 21):\n",
    "        risk = 'Moderately Conservative'\n",
    "    elif (score < 29):\n",
    "        risk = \"Moderate\"\n",
    "    elif (score < 35):\n",
    "        risk = \"Moderately Aggressive\"\n",
    "    else:\n",
    "        risk = \"Aggressive\"\n",
    "        \n",
    "    return f\"You scored {score} out of 40, indicating that you are a {risk} investor\"\n",
    "\n",
    "def score(a,b,c,d,e,f):\n",
    "    q1_points = q1_dict[a]\n",
    "    q2_points = q2_dict[b]\n",
    "    q3_points = q3_dict[c]\n",
    "    q4_points = q4_dict[d]\n",
    "    q5_points = q5_dict[e]\n",
    "    q6_points = q6_dict[f]\n",
    "    return q1_points + q2_points + q3_points + q4_points + q5_points + q6_points\n",
    "\n",
    "\n",
    "def image(a,b,c,d,e,f):\n",
    "    q1_points = q1_dict[a]\n",
    "    q2_points = q2_dict[b]\n",
    "    q3_points = q3_dict[c]\n",
    "    q4_points = q4_dict[d]\n",
    "    q5_points = q5_dict[e]\n",
    "    q6_points = q6_dict[f]\n",
    "    score = q1_points + q2_points + q3_points + q4_points + q5_points + q6_points\n",
    "    \n",
    "    if (score < 13):\n",
    "        return \"image1.jpg\"\n",
    "    elif (score < 29):\n",
    "        return \"image2.jpg\"\n",
    "    else:\n",
    "        return \"image3.jpg\"\n",
    "        \n",
    "   \n",
    "    \n",
    "\n",
    "q1 = pn.widgets.Select(value=list(q1_dict.keys())[0],\n",
    "                        options = list(q1_dict.keys()), name='')\n",
    "\n",
    "q2 = pn.widgets.Select(value=list(q2_dict.keys())[0],\n",
    "                        options = list(q2_dict.keys()), name='')\n",
    "\n",
    "q3 = pn.widgets.Select(value=list(q3_dict.keys())[0],\n",
    "                        options = list(q3_dict.keys()), name='')\n",
    "q4 = pn.widgets.Select(value=list(q4_dict.keys())[0],\n",
    "                       options = list(q4_dict.keys()), name='')\n",
    "\n",
    "q5 = pn.widgets.Select(value=list(q5_dict.keys())[0],\n",
    "                        options = list(q5_dict.keys()), name='')\n",
    "q6 = pn.widgets.Select(value=list(q6_dict.keys())[0],\n",
    "                        options = list(q6_dict.keys()), name='')\n",
    "\n",
    "header_box = pn.WidgetBox(text,width=300, height=75, align='center')\n",
    "\n",
    "bound_risk = pn.bind(risk, a=q1, b=q2, c=q3, d=q4, e=q5, f=q6)\n",
    "bound_score = pn.bind(score, a=q1, b=q2, c=q3, d=q4, e=q5, f=q6)\n",
    "\n",
    "header_box2 = pn.WidgetBox(bound_risk)"
   ]
  },
  {
   "cell_type": "code",
   "execution_count": null,
   "id": "9e3c9d0e-fa80-4d05-b084-d834c75f4b87",
   "metadata": {},
   "outputs": [],
   "source": []
  },
  {
   "cell_type": "code",
   "execution_count": 52,
   "id": "2a77e48d-8cd7-402a-83cf-6c68b248aa6a",
   "metadata": {},
   "outputs": [
    {
     "ename": "SyntaxError",
     "evalue": "invalid syntax (436829299.py, line 18)",
     "output_type": "error",
     "traceback": [
      "\u001b[0;36m  File \u001b[0;32m\"/var/folders/s4/ynf7hry93nq4zdz9gxb8byk00000gn/T/ipykernel_36162/436829299.py\"\u001b[0;36m, line \u001b[0;32m18\u001b[0m\n\u001b[0;31m    bootstrap.show()\u001b[0m\n\u001b[0m    ^\u001b[0m\n\u001b[0;31mSyntaxError\u001b[0m\u001b[0;31m:\u001b[0m invalid syntax\n"
     ]
    }
   ],
   "source": [
    "bootstrap.sidebar.append(pn.Row(pn.Column(header_box,\n",
    "          spacer,\n",
    "          spacer,\n",
    "          q1_name,q1,\n",
    "          spacer,\n",
    "          q2_name, q2,\n",
    "          spacer,\n",
    "          q3_name,q3,\n",
    "          spacer,\n",
    "          q4_name, q4,\n",
    "          spacer,\n",
    "          q5_name, q5,\n",
    "          spacer,\n",
    "          q6_name,q6)))\n",
    "                             \n",
    "bootstrap.main.append(header_box2)\n",
    "bootstrap.main.append((pn.bind(image, a=q1, b=q2, c=q3, d=q4, e=q5, f=q6)))\n",
    "bootstrap.show()"
   ]
  },
  {
   "cell_type": "code",
   "execution_count": 24,
   "id": "bf14ea08-e017-4082-8608-9ef9d5fc96c1",
   "metadata": {},
   "outputs": [
    {
     "data": {
      "text/plain": [
       "6"
      ]
     },
     "execution_count": 24,
     "metadata": {},
     "output_type": "execute_result"
    }
   ],
   "source": [
    "# q1_points = q1_dict[q1.value]\n",
    "# q2_points = q2_dict[q2.value]\n",
    "# q3_points = q3_dict[q3.value]\n",
    "# q4_points = q4_dict[q4.value]\n",
    "# q5_points = q5_dict[q5.value]\n",
    "# q6_points = q6_dict[q6.value]\n",
    "# score = q1_points + q2_points + q3_points + q4_points + q5_points + q6_points\n",
    "# score"
   ]
  },
  {
   "cell_type": "code",
   "execution_count": null,
   "id": "dc5b008c-7ea6-4c34-ab38-b1522dacc1fd",
   "metadata": {},
   "outputs": [],
   "source": []
  }
 ],
 "metadata": {
  "kernelspec": {
   "display_name": "dev",
   "language": "python",
   "name": "dev"
  },
  "language_info": {
   "codemirror_mode": {
    "name": "ipython",
    "version": 3
   },
   "file_extension": ".py",
   "mimetype": "text/x-python",
   "name": "python",
   "nbconvert_exporter": "python",
   "pygments_lexer": "ipython3",
   "version": "3.9.15"
  }
 },
 "nbformat": 4,
 "nbformat_minor": 5
}
